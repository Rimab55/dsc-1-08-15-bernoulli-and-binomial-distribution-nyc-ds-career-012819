{
 "cells": [
  {
   "cell_type": "markdown",
   "metadata": {},
   "source": [
    "# Bernoulli and Binomial Distribution"
   ]
  },
  {
   "cell_type": "markdown",
   "metadata": {},
   "source": [
    "## Introduction\n",
    "\n",
    "Now that you have started calculating your own probabilities, let's take it a little step further and talk about the notion of a *probability model*. Broadly speaking, a probability model is the mathematical representation of a random phenomenon. We have seen mathematical representations of probability before, for example, you may recall this expression for probability of a certain event when having equally likely outcomes:\n",
    "\n",
    "$P(E)= \\dfrac{| E|}{|S|}$ \n",
    "\n",
    "In this section, we'll discuss 2 foundational probability distributions that are extremely useful and have an endless amount of applications: the Bernoulli distribution the Binomial distribution."
   ]
  },
  {
   "cell_type": "markdown",
   "metadata": {},
   "source": [
    "## Objectives\n",
    "\n",
    "You will be able to:\n",
    "\n",
    "- Understand that the Bernoulli experiment is one of the basic distributions\n",
    "- Understand how a Bernoulli experiment can describe a coin flip, and that it can be extended to other applications\n",
    "- Learn what it means when events are independent\n",
    "- Learn that the binomial distribution models a sequence of independent Bernoulli events\n",
    "- Understand how to use NumPy to randomly generate Binomial and Bernoulli trials\n",
    "- Use Matplotlib to show the output of generated Binomial and Bernoulli trials\n"
   ]
  },
  {
   "cell_type": "markdown",
   "metadata": {},
   "source": [
    "## The Bernoulli or Binary distribution"
   ]
  },
  {
   "cell_type": "markdown",
   "metadata": {},
   "source": [
    "In the previous sections, we discussed several probability theory situations regarding throwing a dice, or throwing a coin. The Bernoulli distribution formalizes the idea of a coin flip. \n",
    "\n",
    "The Bernoulli experiment is a simple experiment in which we have a binary\n",
    "outcome: 0-1, succes-failure, head-tail, etc. \n",
    "\n",
    "As the Bernoulli experiment has two potential outcomes: 0 or 1, and if we would model a coin flip, we could say that 0 means heads, and 1 tails. With a fair coin, obtaining either value when performing a coin toss would have an assigned probability of 0.5. The Bernoulli experiment can also describe events with different probability structures. For example, let's say that the chance of scoring a penalty goal is 80%. Where $Y$ is the penalty outcome:\n",
    "\n",
    "$Y = Bernoulli(p)$ and $p=P(Y=1)=0.8$.\n",
    "\n",
    "So we say that the Bernoulli distribution has one parameter $p$.\n",
    "\n",
    "Note how the Bernoulli distribution describes a single coin flip, a single penalty shot, etc. What if we repeat this process multiple times and are interested in the probability to obtain a certain numbers of 1s/successes/tails? This process is described by the **binomial distribution**."
   ]
  },
  {
   "cell_type": "markdown",
   "metadata": {},
   "source": [
    "## The Binomial distribution"
   ]
  },
  {
   "cell_type": "markdown",
   "metadata": {},
   "source": [
    "The binomial distribution describes the process of performing several (denoted by $n$) *independent* Bernoulli trials. So what does it mean that the trials are independent?\n",
    "\n",
    "When we say that events are **independent, this means that an event is not affected by previous events**.\n",
    "\n",
    "Applying this to our penalty goal example, this means that the assumption is that, when a soccer player misses a penalty and then tries again, the fact that he missed it the previous time does not affect his chances of hitting it now: the probability is still 80% ($p=0.8$)!\n"
   ]
  },
  {
   "cell_type": "markdown",
   "metadata": {},
   "source": [
    "As we have a repeated Bernoulli experiment, the binomial distribution has two parameters: $p$ (the success probability) and $n$ (the amount of times the experiment is repeated). We say that random variable $Y$ follows a Binomial distribution:\n",
    "$ Y = bin(n, p)$. \n",
    "\n",
    "\n",
    "Now we're interested in finding an expression that gives us the probability to find a each possible amount of successes $k$ between 0 and n. Going back to our goal penalties example, imagine we still have $p = 0.8$, but have 3 consecutive penalty shots. What is:\n",
    "- $P(Y=0)$ (or the soccer player doesn't score a single time)?\n",
    "- $P(Y=1)$ (or the soccer player scores exactly once)?\n",
    "- $P(Y=2)$ (or the soccer player scores exactly twice)?\n",
    "- $P(Y=3)$ (or the soccer player scores exactly three times)?\n",
    "\n",
    "\n",
    "Calculating $P(Y=0)$ is pretty easy, it's simply $0.2*0.2*0.2$, so 0.008. \n",
    "\n",
    "Getting to $P(Y=1)$ is a little bit more complicated. It's essentially $0.8*0.2*0.2+0.2*0.8*0.2+ 0.2*0.2*0.8$, so it's the probability of scoring during the first shot, or the second shot, or the third shot. So essentially, its $3*(0.8*0.2*0.2)$. You can see how combinatorics play a role here! The general formula is given as follows:\n",
    "\n",
    "$$ P(Y=k)= \\binom{n}{k} p^k(1-p)^{(n-k)}$$ \n"
   ]
  },
  {
   "cell_type": "markdown",
   "metadata": {},
   "source": [
    "Where $k$ denites the number of successes. Applying this on $P(Y=2)$ we get $ P(Y=2)= \\binom{3}{2} 0.8^2(1-0.8)^{(3-2)} = \\dfrac{3!}{2!1!}*0.8^2 * 0.2^1 = 3*0.8^2*0.2$. Note how\n",
    "\n",
    "- $P(Y=0)=0.008$\n",
    "- $P(Y=1)=0.096 $ \n",
    "- $P(Y=2)=0.384 $ \n",
    "- $P(Y=3)=0.512$ \n"
   ]
  },
  {
   "cell_type": "markdown",
   "metadata": {},
   "source": [
    "Note how they sum to one, which is exactly what's expected!"
   ]
  },
  {
   "cell_type": "markdown",
   "metadata": {},
   "source": [
    "## Use NumPy to randomly generate Binomial and Bernoulli trials."
   ]
  },
  {
   "cell_type": "markdown",
   "metadata": {},
   "source": [
    "We've come across random sampling before, but we'll formalize this in this section. \n",
    "When we're performing random sampling, what we're basically doing is selecting a sample from a statistical population in such a way that every possible sample has a predetermined probability of being selected.\n",
    "\n",
    "Applied to our example, imagine that 1 represents scoring a penalty and 0 represents missing. If $p = 0.8$, if you'll do 100 penalties in a row, you'd expect to have about 80 hits. The reason why it's not exactly 80 is because uncertainty plays a role, and this is exactly what you can model using the NumPy random library! Below, we're using `np.random.binomial` to generate how many successful penalties we have when shooting 100 penalties."
   ]
  },
  {
   "cell_type": "code",
   "execution_count": 5,
   "metadata": {},
   "outputs": [
    {
     "data": {
      "text/plain": [
       "78"
      ]
     },
     "execution_count": 5,
     "metadata": {},
     "output_type": "execute_result"
    }
   ],
   "source": [
    "import numpy as np\n",
    "np.random.seed(123) # set a seed to get the same results\n",
    "np.random.binomial(100, 0.8)"
   ]
  },
  {
   "cell_type": "markdown",
   "metadata": {},
   "source": [
    "Now, let's try this again:"
   ]
  },
  {
   "cell_type": "code",
   "execution_count": 6,
   "metadata": {},
   "outputs": [
    {
     "data": {
      "text/plain": [
       "82"
      ]
     },
     "execution_count": 6,
     "metadata": {},
     "output_type": "execute_result"
    }
   ],
   "source": [
    "np.random.binomial(100, 0.8)"
   ]
  },
  {
   "cell_type": "markdown",
   "metadata": {},
   "source": [
    "And again:"
   ]
  },
  {
   "cell_type": "code",
   "execution_count": 14,
   "metadata": {},
   "outputs": [
    {
     "data": {
      "text/plain": [
       "81"
      ]
     },
     "execution_count": 14,
     "metadata": {},
     "output_type": "execute_result"
    }
   ],
   "source": [
    "np.random.binomial(100, 0.8)"
   ]
  },
  {
   "cell_type": "markdown",
   "metadata": {},
   "source": [
    "You can see how this number changes slightly every time and fluctuates around 100. If you'd repeat this many times, you could expect that the amount of successes will converge to 80. Let's illustrate with the for loop below which repeats this 500 times:"
   ]
  },
  {
   "cell_type": "code",
   "execution_count": 29,
   "metadata": {},
   "outputs": [],
   "source": [
    "iteration = []\n",
    "for loop in range(500):\n",
    "    iteration.append(np.random.binomial(100, 0.8))\n",
    "    np_it = np.array(iteration)"
   ]
  },
  {
   "cell_type": "code",
   "execution_count": 30,
   "metadata": {},
   "outputs": [
    {
     "data": {
      "text/plain": [
       "80.058"
      ]
     },
     "execution_count": 30,
     "metadata": {},
     "output_type": "execute_result"
    }
   ],
   "source": [
    "sum(np_it)/500"
   ]
  },
  {
   "cell_type": "markdown",
   "metadata": {},
   "source": [
    "Now we'll use `np.random.binomial` to illustrate out findings regarding penalties above. Let's keep track of how many times we observe 0 goals, 1 goal, 2 goals, and 3 goals and find the probabilities through simulation. Now, lets repeat our experiment 10000 times."
   ]
  },
  {
   "cell_type": "code",
   "execution_count": 31,
   "metadata": {},
   "outputs": [
    {
     "data": {
      "text/plain": [
       "2.4009"
      ]
     },
     "execution_count": 31,
     "metadata": {},
     "output_type": "execute_result"
    }
   ],
   "source": [
    "n = 10000\n",
    "iteration = []\n",
    "for loop in range(n):\n",
    "    iteration.append(np.random.binomial(3, 0.8))\n",
    "    np_it = np.array(iteration)\n",
    "\n",
    "sum(np_it)/n"
   ]
  },
  {
   "cell_type": "markdown",
   "metadata": {},
   "source": [
    "np_it stores the total penalty goal outcomes (0 to 3) for each of the 10000 iterations. Now using `np.unique()` with the optional argument `return_counts`, you get the levels of the $k$ as in your Binomial formula along with how often they occurred when running 10000 trials."
   ]
  },
  {
   "cell_type": "code",
   "execution_count": 36,
   "metadata": {},
   "outputs": [
    {
     "name": "stdout",
     "output_type": "stream",
     "text": [
      "[0 1 2 3]\n",
      "[  81  968 3812 5139]\n"
     ]
    }
   ],
   "source": [
    "values, counts = np.unique(np_it, return_counts=True)\n",
    "print(values)\n",
    "print(counts)"
   ]
  },
  {
   "cell_type": "markdown",
   "metadata": {},
   "source": [
    "## Visualize these results"
   ]
  },
  {
   "cell_type": "markdown",
   "metadata": {},
   "source": [
    "Now, let's use these results and visualize them in terms of fractions. You'll see that these fractions approximations of the values as calculated in the Binomial distribution formula. "
   ]
  },
  {
   "cell_type": "code",
   "execution_count": 37,
   "metadata": {},
   "outputs": [
    {
     "data": {
      "image/png": "[encoded data removed]",
      "text/plain": [
       "<Figure size 432x288 with 1 Axes>"
      ]
     },
     "metadata": {
      "needs_background": "light"
     },
     "output_type": "display_data"
    }
   ],
   "source": [
    "import matplotlib.pyplot as plt\n",
    "plt.bar(values, counts/10000, align='center', alpha=0.7)\n",
    "plt.xticks(values)\n",
    "plt.ylabel('Fraction')\n",
    "plt.title('Number of penalty goals')\n",
    "plt.show()"
   ]
  },
  {
   "cell_type": "markdown",
   "metadata": {},
   "source": [
    "## Summary\n",
    "\n",
    "In this lecture you learned about the Bernoulli and Binomial distributions, you learned how to use the formula for the Binomial distribution, and how to simulate Binomial trials to get to approximations of the Binomial distribution probabilities."
   ]
  }
 ],
 "metadata": {
  "kernelspec": {
   "display_name": "Python 3",
   "language": "python",
   "name": "python3"
  },
  "language_info": {
   "codemirror_mode": {
    "name": "ipython",
    "version": 3
   },
   "file_extension": ".py",
   "mimetype": "text/x-python",
   "name": "python",
   "nbconvert_exporter": "python",
   "pygments_lexer": "ipython3",
   "version": "3.6.6"
  }
 },
 "nbformat": 4,
 "nbformat_minor": 2
}
